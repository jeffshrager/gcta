{
 "cells": [
  {
   "cell_type": "code",
   "execution_count": 5,
   "metadata": {},
   "outputs": [],
   "source": [
    "cd(\"/home/jshrager/active_learning/alsims\")"
   ]
  },
  {
   "cell_type": "code",
   "execution_count": 67,
   "metadata": {},
   "outputs": [],
   "source": [
    "using Pkg; Pkg.activate(\"ALSims.jl\")\n",
    "using ProgressMeter\n",
    "using ALSims\n",
    "using PyPlot; const plt = PyPlot\n",
    "using Statistics\n",
    "using Printf\n",
    "using Serialization"
   ]
  },
  {
   "cell_type": "code",
   "execution_count": 339,
   "metadata": {},
   "outputs": [
    {
     "data": {
      "text/plain": [
       "listresults (generic function with 1 method)"
      ]
     },
     "execution_count": 339,
     "metadata": {},
     "output_type": "execute_result"
    }
   ],
   "source": [
    "# For convenience, policies is globally set, but it gets stored in each result, so that they can be\n",
    "# recovered in context, even if the global value changes\n",
    "# policies = Dict(:ptw => ALSimAs.ptw_policy, :ts => ALSims.ts_policy, :ucb => ALSims.ucb_policy, :ura => ALSims.ura_policy)\n",
    "policies = Dict(:ts => ALSims.ts_policy, :ucb => ALSims.ucb_policy)\n",
    "\n",
    "# Results dicts get push here; plotrun defaults to taking the last (first) one\n",
    "# !!!!!!!!!! DON'T DO THIS UNLESS YOU WANT TO RESET ALL RESULTS!!!!!!!!!!!!!\n",
    "G_results = []\n",
    "# G_results will get auto-loaded whne you run, if they don't already exist\n",
    "\n",
    "function listresults()\n",
    "    for i = 1:length(G_results)\n",
    "        r = G_results[i]\n",
    "        @printf(\"[%s]:int=%s,tx=%s,iters=%s,bm=%s,snr=%s,pr=%s\\n\",i,r[\"n_int\"],r[\"n_tx\"],r[\"n_iters\"],r[\"n_bm\"],r[\"snr\"],r[\"n_pt\"])\n",
    "    end\n",
    "end"
   ]
  },
  {
   "cell_type": "code",
   "execution_count": 340,
   "metadata": {},
   "outputs": [
    {
     "data": {
      "text/plain": [
       "run (generic function with 1 method)"
      ]
     },
     "execution_count": 340,
     "metadata": {},
     "output_type": "execute_result"
    }
   ],
   "source": [
    "function run(;n_tx,int_flag=false,n_iters=100,n_pt=500,snr=10,n_bm=0)\n",
    "    # Reload global results inly if they are empty\n",
    "    if G_results == []\n",
    "        G_results = deserialize(\"/home/jshrager/al_results.serialized\")\n",
    "    end\n",
    "    n_int=int_flag ? n_tx : 0\n",
    "    int_ind = Vector{NTuple{2, Int}}()\n",
    "    n_x = 1 + n_bm + n_tx + n_int\n",
    "    X_bm = rand([0, 1], n_pt, n_bm)\n",
    "    X_tx = rand([0, 1], n_pt, n_tx);\n",
    "    true_model = GaussianGenerativeModel(snr * randn(n_x), 1.0)\n",
    "    learning_model = GaussianLearningModel(n_x)\n",
    "\n",
    "    #This give you the raw data back, although we usually don't want this\n",
    "    #sim_data = simulate_patients(X_bm, n_tx, true_model, learning_model; bm_tx_int_ind = int_ind, policies = policies)\n",
    "\n",
    "    # This provides the regrets against the true model: \n",
    "    sim_function(true_model) = simulate_patients(X_bm, n_tx, true_model, learning_model; bm_tx_int_ind = int_ind, policies)\n",
    "\n",
    "    true_models = [GaussianGenerativeModel(snr * randn(n_x), 1.0) for i in 1:n_iter]\n",
    "    sim_data_array = @showprogress map(sim_function, true_models);\n",
    "    result = Dict(\"policies\"=>policies,\"n_tx\" => n_tx, \"n_int\" => n_int, \"n_iters\" => n_iters, \"n_pt\" => n_pt, \"snr\" => snr, \"n_bm\" => n_bm, \"sim_data_array\" => sim_data_array)\n",
    "    \n",
    "    # Store this result, save, and display\n",
    "    pushfirst!(results,G_results)\n",
    "    serialize(\"/home/jshrager/al_results.serialized\", G_results)\n",
    "    listresults()\n",
    "    plotrun()\n",
    "end\n"
   ]
  },
  {
   "cell_type": "code",
   "execution_count": 341,
   "metadata": {},
   "outputs": [
    {
     "data": {
      "text/plain": [
       "plotrun (generic function with 2 methods)"
      ]
     },
     "execution_count": 341,
     "metadata": {},
     "output_type": "execute_result"
    }
   ],
   "source": [
    "function plotrun(;result=G_results[1],ylimit=0,labelpos=false)\n",
    "    # UUU FFF There's probably a better way to do this:\n",
    "    n_int = result[\"n_int\"]\n",
    "    n_tx = result[\"n_tx\"]\n",
    "    n_iters = result[\"n_iters\"]\n",
    "    n_bm = result[\"n_bm\"]\n",
    "    n_pt = result[\"n_pt\"]\n",
    "    snr = result[\"snr\"]\n",
    "    policies = result[\"policies\"]\n",
    "    sim_data_array = result[\"sim_data_array\"]\n",
    "    for (i, key) in enumerate([key for (key,y) in policies])\n",
    "        y = hcat([sim_data_array[i][key][:regrets] for i in 1:n_iter]...)\n",
    "        # y = cumsum(y, dims=1)\n",
    "        y_mean = reshape(mean(y, dims=2), n_pt)\n",
    "        y_std = reshape(std(y, dims=2), n_pt)\n",
    "        x = collect(1:n_pt)\n",
    "        c = \"C$i\"\n",
    "        plt.plot(x, y_mean, color=c, label=String(key))\n",
    "        plt.fill_between(x, y_mean .- y_std/sqrt(n_iter), y_mean .+ y_std/sqrt(n_iter), alpha=0.3, color=c)\n",
    "        plt.ylabel(\"Regret\")\n",
    "        plt.xlabel(\"Iteration\")\n",
    "    end\n",
    "    axes = plt.gca()\n",
    "    if ylimit != 0\n",
    "        axes.set_ylim(ylimit)\n",
    "    end\n",
    "    if labelpos == false\n",
    "        ypos=axes.get_ylim()[2]\n",
    "        labelpos = [10,ypos-floor(ypos/10)]\n",
    "    end\n",
    "    context_label = @sprintf(\"(+-stderr) int=%s,tx=%s,iters=%s,bm=%s,snr=%s\",n_int,n_tx,n_iters,n_bm,snr)\n",
    "    plt.text(labelpos..., context_label)\n",
    "    plt.legend()\n",
    "end"
   ]
  },
  {
   "cell_type": "code",
   "execution_count": 342,
   "metadata": {},
   "outputs": [
    {
     "ename": "LoadError",
     "evalue": "UndefVarError: G_results not defined",
     "output_type": "error",
     "traceback": [
      "UndefVarError: G_results not defined",
      "",
      "Stacktrace:",
      " [1] run(; n_tx::Int64, int_flag::Bool, n_iters::Int64, n_pt::Int64, snr::Int64, n_bm::Int64) at ./In[340]:3",
      " [2] top-level scope at In[342]:1",
      " [3] include_string(::Function, ::Module, ::String, ::String) at ./loading.jl:1091"
     ]
    }
   ],
   "source": [
    "run(n_tx=5,n_iters=10)"
   ]
  },
  {
   "cell_type": "code",
   "execution_count": 343,
   "metadata": {},
   "outputs": [],
   "source": [
    "listresults()"
   ]
  },
  {
   "cell_type": "code",
   "execution_count": null,
   "metadata": {},
   "outputs": [],
   "source": []
  }
 ],
 "metadata": {
  "kernelspec": {
   "display_name": "Julia 1.5.2",
   "language": "julia",
   "name": "julia-1.5"
  },
  "language_info": {
   "file_extension": ".jl",
   "mimetype": "application/julia",
   "name": "julia",
   "version": "1.5.2"
  }
 },
 "nbformat": 4,
 "nbformat_minor": 4
}
